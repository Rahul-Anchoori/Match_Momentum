{
  "nbformat": 4,
  "nbformat_minor": 0,
  "metadata": {
    "colab": {
      "provenance": []
    },
    "kernelspec": {
      "name": "python3",
      "display_name": "Python 3"
    },
    "language_info": {
      "name": "python"
    }
  },
  "cells": [
    {
      "cell_type": "code",
      "execution_count": 2,
      "metadata": {
        "id": "HU1tAR5ACw2n"
      },
      "outputs": [],
      "source": [
        "teams=['Kings XI Punjab',\n",
        "       'Mumbai Indians',\n",
        "       'Kolkata Knight Riders',\n",
        "       'Rajasthan Royals',\n",
        "       'Chennai Super Kings',\n",
        "       'Sunrisers Hyderabad',\n",
        "       'Delhi Capitals'\n",
        "       'Lucknow Super Giants',\n",
        "       'Gujarat Titans',\n",
        "       'Royal Challengers Bengaluru']\n",
        "city=['Bangalore', 'Chandigarh', 'Delhi', 'Mumbai', 'Kolkata', 'Jaipur',\n",
        "       'Hyderabad', 'Chennai', 'Cape Town', 'Port Elizabeth', 'Durban',\n",
        "       'Centurion', 'East London', 'Johannesburg', 'Kimberley',\n",
        "       'Bloemfontein', 'Ahmedabad', 'Cuttack', 'Nagpur', 'Dharamsala',\n",
        "       'Kochi', 'Indore', 'Visakhapatnam', 'Pune', 'Raipur', 'Ranchi',\n",
        "       'Abu Dhabi','Rajkot', 'Kanpur', 'Bengaluru', 'Dubai',\n",
        "       'Sharjah', 'Navi Mumbai', 'Lucknow', 'Guwahati', 'Mohali']"
      ]
    },
    {
      "cell_type": "code",
      "source": [
        "import numpy as np\n",
        "import pandas as pd\n",
        "import pickle\n",
        "from sklearn.model_selection import train_test_split\n",
        "from sklearn.compose import ColumnTransformer\n",
        "from sklearn.preprocessing import OneHotEncoder\n",
        "from sklearn.linear_model import LogisticRegression\n",
        "from sklearn.metrics import accuracy_score\n",
        "from sklearn.pipeline import Pipeline"
      ],
      "metadata": {
        "id": "LxHjCl0mC-yt"
      },
      "execution_count": 5,
      "outputs": []
    },
    {
      "cell_type": "code",
      "source": [
        "match= pd.read_csv('DATA1.csv')\n",
        "delivery= pd.read_csv('DATA2.csv')"
      ],
      "metadata": {
        "id": "HHWmeBTuDEEH"
      },
      "execution_count": 7,
      "outputs": []
    },
    {
      "cell_type": "code",
      "source": [
        "first_team_total = delivery.groupby(['match_id','inning']).sum()['total_runs'].reset_index()[lambda x: x['inning']==1]"
      ],
      "metadata": {
        "id": "Gua1_gruDIDW"
      },
      "execution_count": 9,
      "outputs": []
    },
    {
      "cell_type": "code",
      "source": [
        "match1 = match.merge(first_team_total[['match_id','total_runs']], left_on='id', right_on='match_id')\n",
        "team_replacements = {\n",
        "    'Delhi Daredevils': 'Delhi Capitals',\n",
        "    'Deccan Chargers': 'Sunrisers Hyderabad',\n",
        "    'Rising Pune Supergiants': 'Mumbai Indians',\n",
        "    'Rising Pune Supergiant': 'Mumbai Indians',\n",
        "    'Gujarat Lions': 'Gujarat Titans',\n",
        "    'Kings XI Punjab': 'Punjab Kings',\n",
        "    'Pune Warriors': 'Mumbai Indians',\n",
        "    'Kochi Tuskers Kerala': 'Royal Challengers Bangalore'\n",
        "}\n",
        "for old_team, new_team in team_replacements.items():\n",
        "    match1['team1'] = match1['team1'].str.replace(old_team, new_team)\n",
        "    match1['team2'] = match1['team2'].str.replace(old_team, new_team)\n",
        "match1 = match1[match1['team1'] != match1['team2']]\n",
        "match1 = match1[match1['team1'] != match1['team2']][['match_id','city','winner','total_runs']]\n",
        "delivery1 = match1.merge(delivery,on='match_id')[lambda x: x['inning']==2]"
      ],
      "metadata": {
        "id": "N-2ITfGQDPq2"
      },
      "execution_count": 10,
      "outputs": []
    },
    {
      "cell_type": "code",
      "source": [
        "delivery1 = (\n",
        "    delivery1.assign(\n",
        "        total_runs_y = pd.to_numeric(delivery1['total_runs_y'], errors='coerce'),\n",
        "        current_score = delivery1.groupby('match_id')['total_runs_y'].cumsum(),\n",
        "    )\n",
        "    .assign(\n",
        "        runs_left = lambda x: x['total_runs_x'] - x['current_score'],\n",
        "        balls_left = lambda x: 126 - (x['over'] * 6 + x['ball']),\n",
        "        player_dismissed = pd.to_numeric(delivery1['player_dismissed'], errors='coerce').fillna(0),\n",
        "    )\n",
        "    .assign(\n",
        "        wicket_left = lambda x: 10 - x['player_dismissed'],\n",
        "        crr = lambda x: (x['current_score'] * 6) / (x['over'] * 6 + x['ball'] + 1e-9),\n",
        "        rrr = lambda x: (x['runs_left'] * 6) / (x['balls_left'] + 1e-9)\n",
        "    )\n",
        "    .query(\"balls_left != 0 and runs_left >= 0\")\n",
        ")"
      ],
      "metadata": {
        "id": "mUG8J3wSDUib"
      },
      "execution_count": 11,
      "outputs": []
    },
    {
      "cell_type": "code",
      "source": [
        "def result(row):\n",
        "    return 1 if row['batting_team'] == row['winner'] else 0\n",
        "delivery1['result'] = delivery1.apply(result,axis=1)"
      ],
      "metadata": {
        "id": "iejCHzqwDYQE"
      },
      "execution_count": 13,
      "outputs": []
    },
    {
      "cell_type": "code",
      "source": [
        "final = delivery1[['batting_team','bowling_team','city','runs_left','balls_left','wicket_left','total_runs_x','crr','rrr','result']]"
      ],
      "metadata": {
        "id": "d2W565-4lBRd"
      },
      "execution_count": 14,
      "outputs": []
    },
    {
      "cell_type": "code",
      "source": [
        "X = final.iloc[:,:-1]\n",
        "y = final.iloc[:,-1]\n",
        "X_train,X_test,y_train,y_test = train_test_split(X,y,test_size=0.2,random_state=1)"
      ],
      "metadata": {
        "id": "1nR8pfzdlm3J"
      },
      "execution_count": 15,
      "outputs": []
    },
    {
      "cell_type": "code",
      "source": [
        "trf = ColumnTransformer([\n",
        "    ('trf',OneHotEncoder(sparse_output=False,drop='first'),['batting_team','bowling_team','city'])\n",
        "]\n",
        ",remainder='passthrough')"
      ],
      "metadata": {
        "id": "oArmmwdemNXU"
      },
      "execution_count": 17,
      "outputs": []
    },
    {
      "cell_type": "code",
      "source": [
        "pipe = Pipeline(steps=[\n",
        "    ('step1',trf),\n",
        "    ('step2',LogisticRegression(solver='liblinear'))\n",
        "])\n",
        "pipe.fit(X_train,y_train)\n",
        "y_pred = pipe.predict(X_test)"
      ],
      "metadata": {
        "id": "_ExmnnQbmfH0"
      },
      "execution_count": 18,
      "outputs": []
    },
    {
      "cell_type": "code",
      "source": [
        "def match_progression(x_df,match_id,pipe):\n",
        "    match = x_df[x_df['match_id'] == match_id]\n",
        "    match = match[(match['ball'] == 6)]\n",
        "    temp_df = match[['batting_team','bowling_team','city','runs_left','balls_left','wickets','total_runs_x','crr','rrr']].dropna()\n",
        "    temp_df = temp_df[temp_df['balls_left'] != 0]\n",
        "    result = pipe.predict_proba(temp_df)\n",
        "    temp_df['lose'] = np.round(result.T[0]*100,1)\n",
        "    temp_df['win'] = np.round(result.T[1]*100,1)\n",
        "    temp_df['end_of_over'] = range(1,temp_df.shape[0]+1)\n",
        "    target = temp_df['total_runs_x'].values[0]\n",
        "    runs = list(temp_df['runs_left'].values)\n",
        "    new_runs = runs[:]\n",
        "    runs.insert(0,target)\n",
        "    temp_df['runs_after_over'] = np.array(runs)[:-1] - np.array(new_runs)\n",
        "    wickets = list(temp_df['wickets'].values)\n",
        "    new_wickets = wickets[:]\n",
        "    new_wickets.insert(0,10)\n",
        "    wickets.append(0)\n",
        "    w = np.array(wickets)\n",
        "    nw = np.array(new_wickets)\n",
        "    temp_df['wickets_in_over'] = (nw - w)[0:temp_df.shape[0]]\n",
        "    print(\"Target-\",target)\n",
        "    temp_df = temp_df[['end_of_over','runs_after_over','wickets_in_over','lose','win']]\n",
        "    return temp_df,target"
      ],
      "metadata": {
        "id": "jbVRIcUMqkHW"
      },
      "execution_count": 19,
      "outputs": []
    },
    {
      "cell_type": "code",
      "source": [
        "pickle.dump(pipe,open('pipes.pkl','wb'))"
      ],
      "metadata": {
        "id": "jtIQB6jCDtBK"
      },
      "execution_count": 21,
      "outputs": []
    }
  ]
}